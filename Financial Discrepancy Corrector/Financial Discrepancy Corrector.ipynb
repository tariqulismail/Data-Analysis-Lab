{
 "cells": [
  {
   "cell_type": "code",
   "execution_count": null,
   "metadata": {},
   "outputs": [],
   "source": [
    "#Identifying, Analyzing, and Rectifying Discrepancies in Financial Records\n",
    "#Example Scenario:\n",
    "#Let's consider a simple scenario where a company's internal sales records do not match the amounts recorded in the bank statements for the same period.\n",
    "\n",
    "#Step-by-Step Process\n",
    "#1. Identify Discrepancies"
   ]
  },
  {
   "cell_type": "code",
   "execution_count": 1,
   "metadata": {},
   "outputs": [
    {
     "name": "stdout",
     "output_type": "stream",
     "text": [
      "         Date Transaction ID  Amount_Internal  Amount_Bank  Discrepancy\n",
      "2  2024-06-03           T003             1500         1000          500\n"
     ]
    }
   ],
   "source": [
    "import pandas as pd\n",
    "\n",
    "# Create dataframes for internal sales records and bank statements\n",
    "internal_records = pd.DataFrame({\n",
    "    'Date': ['2024-06-01', '2024-06-02', '2024-06-03'],\n",
    "    'Transaction ID': ['T001', 'T002', 'T003'],\n",
    "    'Amount': [1000, 2000, 1500]\n",
    "})\n",
    "\n",
    "bank_statements = pd.DataFrame({\n",
    "    'Date': ['2024-06-01', '2024-06-02', '2024-06-03'],\n",
    "    'Transaction ID': ['T001', 'T002', 'T003'],\n",
    "    'Amount': [1000, 2000, 1000]\n",
    "})\n",
    "\n",
    "# Merge the dataframes on Date and Transaction ID to identify discrepancies\n",
    "merged_data = pd.merge(internal_records, bank_statements, on=['Date', 'Transaction ID'], suffixes=('_Internal', '_Bank'))\n",
    "\n",
    "# Identify discrepancies\n",
    "merged_data['Discrepancy'] = merged_data['Amount_Internal'] - merged_data['Amount_Bank']\n",
    "\n",
    "# Filter rows with discrepancies\n",
    "discrepancies = merged_data[merged_data['Discrepancy'] != 0]\n",
    "\n",
    "print(discrepancies)\n"
   ]
  },
  {
   "cell_type": "code",
   "execution_count": null,
   "metadata": {},
   "outputs": [],
   "source": [
    "#Step-by-Step Process\n",
    "#1. Identify Discrepancies\n",
    "#We will identify the following types of discrepancies:\n",
    "\n",
    "#Missing transactions\n",
    "#Duplicate entries\n",
    "#Incorrect amounts"
   ]
  },
  {
   "cell_type": "code",
   "execution_count": 3,
   "metadata": {},
   "outputs": [
    {
     "name": "stdout",
     "output_type": "stream",
     "text": [
      "Merged Data with Discrepancies:\n",
      "         Date Transaction ID  Amount_Internal  Amount_Bank  Amount_Discrepancy\n",
      "0  2024-06-01           T001           1000.0       1000.0                 0.0\n",
      "1  2024-06-02           T002           2000.0       2000.0                 0.0\n",
      "2  2024-06-03           T003           1500.0       1200.0               300.0\n",
      "3  2024-06-04           T004           3000.0       3000.0                 0.0\n",
      "4  2024-06-05           T005           2500.0          NaN                 NaN\n",
      "5  2024-06-06           T006              NaN       2500.0                 NaN\n",
      "\n",
      "Missing Transactions in Internal Records:\n",
      "         Date Transaction ID  Amount_Internal  Amount_Bank  Amount_Discrepancy\n",
      "5  2024-06-06           T006              NaN       2500.0                 NaN\n",
      "\n",
      "Missing Transactions in Bank Statements:\n",
      "         Date Transaction ID  Amount_Internal  Amount_Bank  Amount_Discrepancy\n",
      "4  2024-06-05           T005           2500.0          NaN                 NaN\n"
     ]
    }
   ],
   "source": [
    "import pandas as pd\n",
    "\n",
    "# Create dataframes for internal sales records, purchase orders, and bank statements\n",
    "internal_records = pd.DataFrame({\n",
    "    'Date': ['2024-06-01', '2024-06-02', '2024-06-03', '2024-06-04', '2024-06-05'],\n",
    "    'Transaction ID': ['T001', 'T002', 'T003', 'T004', 'T005'],\n",
    "    'Amount': [1000, 2000, 1500, 3000, 2500]\n",
    "})\n",
    "\n",
    "purchase_orders = pd.DataFrame({\n",
    "    'Date': ['2024-06-01', '2024-06-02', '2024-06-03', '2024-06-04'],\n",
    "    'Order ID': ['P001', 'P002', 'P003', 'P004'],\n",
    "    'Amount': [1000, 2000, 1500, 3000]\n",
    "})\n",
    "\n",
    "bank_statements = pd.DataFrame({\n",
    "    'Date': ['2024-06-01', '2024-06-02', '2024-06-03', '2024-06-04', '2024-06-06'],\n",
    "    'Transaction ID': ['T001', 'T002', 'T003', 'T004', 'T006'],\n",
    "    'Amount': [1000, 2000, 1200, 3000, 2500]\n",
    "})\n",
    "\n",
    "# Merge the dataframes on Date and Transaction ID to identify discrepancies\n",
    "merged_data = pd.merge(internal_records, bank_statements, how='outer', on=['Date', 'Transaction ID'], suffixes=('_Internal', '_Bank'))\n",
    "\n",
    "# Identify discrepancies in amounts\n",
    "merged_data['Amount_Discrepancy'] = merged_data['Amount_Internal'] - merged_data['Amount_Bank']\n",
    "\n",
    "# Identify missing transactions in internal records and bank statements\n",
    "missing_in_internal = merged_data[merged_data['Amount_Internal'].isna()]\n",
    "missing_in_bank = merged_data[merged_data['Amount_Bank'].isna()]\n",
    "\n",
    "print(\"Merged Data with Discrepancies:\")\n",
    "print(merged_data)\n",
    "\n",
    "print(\"\\nMissing Transactions in Internal Records:\")\n",
    "print(missing_in_internal)\n",
    "\n",
    "print(\"\\nMissing Transactions in Bank Statements:\")\n",
    "print(missing_in_bank)"
   ]
  },
  {
   "cell_type": "code",
   "execution_count": null,
   "metadata": {},
   "outputs": [],
   "source": []
  }
 ],
 "metadata": {
  "kernelspec": {
   "display_name": "Python 3",
   "language": "python",
   "name": "python3"
  },
  "language_info": {
   "codemirror_mode": {
    "name": "ipython",
    "version": 3
   },
   "file_extension": ".py",
   "mimetype": "text/x-python",
   "name": "python",
   "nbconvert_exporter": "python",
   "pygments_lexer": "ipython3",
   "version": "3.8.3"
  }
 },
 "nbformat": 4,
 "nbformat_minor": 4
}
