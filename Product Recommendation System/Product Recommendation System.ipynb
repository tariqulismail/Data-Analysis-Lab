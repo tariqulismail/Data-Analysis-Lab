{
 "cells": [
  {
   "cell_type": "markdown",
   "id": "e84475f8-6306-40a6-a35b-02199bc0847d",
   "metadata": {},
   "source": [
    "# Product Recommendation System"
   ]
  },
  {
   "cell_type": "markdown",
   "id": "fb20fbba-e2c4-45f4-b1b8-44772fc9db70",
   "metadata": {},
   "source": [
    "#### Recommendation engines basically are data filtering tools that make use of algorithms and data to recommend the most relevant items to a particular user."
   ]
  },
  {
   "cell_type": "code",
   "execution_count": 1,
   "id": "c68c8e02-b30a-4158-a920-cc5a353c3fb4",
   "metadata": {},
   "outputs": [],
   "source": [
    "import pandas as pd\n",
    "import numpy as np\n",
    "\n",
    "import datetime \n",
    "import time\n",
    "\n",
    "%matplotlib inline\n",
    "import matplotlib.pyplot as plt \n",
    "import seaborn as sns"
   ]
  },
  {
   "cell_type": "markdown",
   "id": "364bdbcd-0f89-45b6-8efd-875dc9dffc11",
   "metadata": {},
   "source": [
    "#### Load CSV files into DataFrames"
   ]
  },
  {
   "cell_type": "code",
   "execution_count": 3,
   "id": "bd2a3fd7-e52a-4c9a-a552-a958a28b25d3",
   "metadata": {},
   "outputs": [
    {
     "data": {
      "text/html": [
       "<div>\n",
       "<style scoped>\n",
       "    .dataframe tbody tr th:only-of-type {\n",
       "        vertical-align: middle;\n",
       "    }\n",
       "\n",
       "    .dataframe tbody tr th {\n",
       "        vertical-align: top;\n",
       "    }\n",
       "\n",
       "    .dataframe thead th {\n",
       "        text-align: right;\n",
       "    }\n",
       "</style>\n",
       "<table border=\"1\" class=\"dataframe\">\n",
       "  <thead>\n",
       "    <tr style=\"text-align: right;\">\n",
       "      <th></th>\n",
       "      <th>timestamp</th>\n",
       "      <th>visitorid</th>\n",
       "      <th>event</th>\n",
       "      <th>itemid</th>\n",
       "      <th>transactionid</th>\n",
       "    </tr>\n",
       "  </thead>\n",
       "  <tbody>\n",
       "    <tr>\n",
       "      <th>0</th>\n",
       "      <td>1433221332117</td>\n",
       "      <td>257597</td>\n",
       "      <td>view</td>\n",
       "      <td>355908</td>\n",
       "      <td>NaN</td>\n",
       "    </tr>\n",
       "    <tr>\n",
       "      <th>1</th>\n",
       "      <td>1433224214164</td>\n",
       "      <td>992329</td>\n",
       "      <td>view</td>\n",
       "      <td>248676</td>\n",
       "      <td>NaN</td>\n",
       "    </tr>\n",
       "    <tr>\n",
       "      <th>2</th>\n",
       "      <td>1433221999827</td>\n",
       "      <td>111016</td>\n",
       "      <td>view</td>\n",
       "      <td>318965</td>\n",
       "      <td>NaN</td>\n",
       "    </tr>\n",
       "    <tr>\n",
       "      <th>3</th>\n",
       "      <td>1433221955914</td>\n",
       "      <td>483717</td>\n",
       "      <td>view</td>\n",
       "      <td>253185</td>\n",
       "      <td>NaN</td>\n",
       "    </tr>\n",
       "    <tr>\n",
       "      <th>4</th>\n",
       "      <td>1433221337106</td>\n",
       "      <td>951259</td>\n",
       "      <td>view</td>\n",
       "      <td>367447</td>\n",
       "      <td>NaN</td>\n",
       "    </tr>\n",
       "  </tbody>\n",
       "</table>\n",
       "</div>"
      ],
      "text/plain": [
       "       timestamp  visitorid event  itemid  transactionid\n",
       "0  1433221332117     257597  view  355908            NaN\n",
       "1  1433224214164     992329  view  248676            NaN\n",
       "2  1433221999827     111016  view  318965            NaN\n",
       "3  1433221955914     483717  view  253185            NaN\n",
       "4  1433221337106     951259  view  367447            NaN"
      ]
     },
     "execution_count": 3,
     "metadata": {},
     "output_type": "execute_result"
    }
   ],
   "source": [
    "events_df = pd.read_csv('product_events.csv')\n",
    "events_df.head(5)"
   ]
  },
  {
   "cell_type": "code",
   "execution_count": 4,
   "id": "f7de79a5-2f35-41d6-944d-009746b5fc52",
   "metadata": {},
   "outputs": [
    {
     "data": {
      "text/html": [
       "<div>\n",
       "<style scoped>\n",
       "    .dataframe tbody tr th:only-of-type {\n",
       "        vertical-align: middle;\n",
       "    }\n",
       "\n",
       "    .dataframe tbody tr th {\n",
       "        vertical-align: top;\n",
       "    }\n",
       "\n",
       "    .dataframe thead th {\n",
       "        text-align: right;\n",
       "    }\n",
       "</style>\n",
       "<table border=\"1\" class=\"dataframe\">\n",
       "  <thead>\n",
       "    <tr style=\"text-align: right;\">\n",
       "      <th></th>\n",
       "      <th>timestamp</th>\n",
       "      <th>visitorid</th>\n",
       "      <th>event</th>\n",
       "      <th>itemid</th>\n",
       "      <th>transactionid</th>\n",
       "    </tr>\n",
       "  </thead>\n",
       "  <tbody>\n",
       "    <tr>\n",
       "      <th>0</th>\n",
       "      <td>1433221332117</td>\n",
       "      <td>257597</td>\n",
       "      <td>view</td>\n",
       "      <td>355908</td>\n",
       "      <td>NaN</td>\n",
       "    </tr>\n",
       "    <tr>\n",
       "      <th>1</th>\n",
       "      <td>1433224214164</td>\n",
       "      <td>992329</td>\n",
       "      <td>view</td>\n",
       "      <td>248676</td>\n",
       "      <td>NaN</td>\n",
       "    </tr>\n",
       "    <tr>\n",
       "      <th>2</th>\n",
       "      <td>1433221999827</td>\n",
       "      <td>111016</td>\n",
       "      <td>view</td>\n",
       "      <td>318965</td>\n",
       "      <td>NaN</td>\n",
       "    </tr>\n",
       "    <tr>\n",
       "      <th>3</th>\n",
       "      <td>1433221955914</td>\n",
       "      <td>483717</td>\n",
       "      <td>view</td>\n",
       "      <td>253185</td>\n",
       "      <td>NaN</td>\n",
       "    </tr>\n",
       "    <tr>\n",
       "      <th>4</th>\n",
       "      <td>1433221337106</td>\n",
       "      <td>951259</td>\n",
       "      <td>view</td>\n",
       "      <td>367447</td>\n",
       "      <td>NaN</td>\n",
       "    </tr>\n",
       "    <tr>\n",
       "      <th>...</th>\n",
       "      <td>...</td>\n",
       "      <td>...</td>\n",
       "      <td>...</td>\n",
       "      <td>...</td>\n",
       "      <td>...</td>\n",
       "    </tr>\n",
       "    <tr>\n",
       "      <th>190216</th>\n",
       "      <td>1433902645993</td>\n",
       "      <td>648369</td>\n",
       "      <td>view</td>\n",
       "      <td>340093</td>\n",
       "      <td>NaN</td>\n",
       "    </tr>\n",
       "    <tr>\n",
       "      <th>190217</th>\n",
       "      <td>1433899256648</td>\n",
       "      <td>1010167</td>\n",
       "      <td>view</td>\n",
       "      <td>62343</td>\n",
       "      <td>NaN</td>\n",
       "    </tr>\n",
       "    <tr>\n",
       "      <th>190218</th>\n",
       "      <td>1433900026204</td>\n",
       "      <td>24947</td>\n",
       "      <td>view</td>\n",
       "      <td>379288</td>\n",
       "      <td>NaN</td>\n",
       "    </tr>\n",
       "    <tr>\n",
       "      <th>190219</th>\n",
       "      <td>1433902463339</td>\n",
       "      <td>557538</td>\n",
       "      <td>view</td>\n",
       "      <td>367102</td>\n",
       "      <td>NaN</td>\n",
       "    </tr>\n",
       "    <tr>\n",
       "      <th>190220</th>\n",
       "      <td>1433899876009</td>\n",
       "      <td>507051</td>\n",
       "      <td>view</td>\n",
       "      <td>159929</td>\n",
       "      <td>NaN</td>\n",
       "    </tr>\n",
       "  </tbody>\n",
       "</table>\n",
       "<p>190221 rows × 5 columns</p>\n",
       "</div>"
      ],
      "text/plain": [
       "            timestamp  visitorid event  itemid  transactionid\n",
       "0       1433221332117     257597  view  355908            NaN\n",
       "1       1433224214164     992329  view  248676            NaN\n",
       "2       1433221999827     111016  view  318965            NaN\n",
       "3       1433221955914     483717  view  253185            NaN\n",
       "4       1433221337106     951259  view  367447            NaN\n",
       "...               ...        ...   ...     ...            ...\n",
       "190216  1433902645993     648369  view  340093            NaN\n",
       "190217  1433899256648    1010167  view   62343            NaN\n",
       "190218  1433900026204      24947  view  379288            NaN\n",
       "190219  1433902463339     557538  view  367102            NaN\n",
       "190220  1433899876009     507051  view  159929            NaN\n",
       "\n",
       "[190221 rows x 5 columns]"
      ]
     },
     "execution_count": 4,
     "metadata": {},
     "output_type": "execute_result"
    }
   ],
   "source": [
    "events_df"
   ]
  },
  {
   "cell_type": "markdown",
   "id": "4ae11939-0ad7-4518-90c0-16acd5e241ea",
   "metadata": {},
   "source": [
    "### Customer behaviour exploration"
   ]
  },
  {
   "cell_type": "markdown",
   "id": "8b7e0005-c141-4eb8-bd42-f9503c180dcd",
   "metadata": {},
   "source": [
    "#### Total visitor"
   ]
  },
  {
   "cell_type": "code",
   "execution_count": 9,
   "id": "bc6720be-8bdd-49d2-b96f-fbae133b8e7a",
   "metadata": {},
   "outputs": [
    {
     "data": {
      "text/plain": [
       "190221"
      ]
     },
     "execution_count": 9,
     "metadata": {},
     "output_type": "execute_result"
    }
   ],
   "source": [
    "events_df.visitorid.size"
   ]
  },
  {
   "cell_type": "code",
   "execution_count": 5,
   "id": "39b54c48-0ba4-4252-aa42-4c4f22050425",
   "metadata": {},
   "outputs": [
    {
     "name": "stdout",
     "output_type": "stream",
     "text": [
      "       timestamp  visitorid event  itemid  transactionid  event_weight\n",
      "0  1433221332117     257597  view  355908            NaN             1\n",
      "1  1433224214164     992329  view  248676            NaN             1\n",
      "2  1433221999827     111016  view  318965            NaN             1\n",
      "3  1433221955914     483717  view  253185            NaN             1\n",
      "4  1433221337106     951259  view  367447            NaN             1\n"
     ]
    }
   ],
   "source": [
    "\n",
    "# Assign weights to events\n",
    "event_weights = {\n",
    "    'view': 1,\n",
    "    'addtocart': 3,\n",
    "    'transaction': 5\n",
    "}\n",
    "\n",
    "# Apply weights to the event types\n",
    "events_df['event_weight'] = events_df['event'].map(event_weights)\n",
    "\n",
    "print(events_df.head())"
   ]
  },
  {
   "cell_type": "markdown",
   "id": "94bf9f18-8438-4d50-9b8b-81de2abaff12",
   "metadata": {},
   "source": [
    "#### Unique visitor"
   ]
  },
  {
   "cell_type": "code",
   "execution_count": 10,
   "id": "5b1e377c-4eea-4671-a798-1235fac83ca8",
   "metadata": {},
   "outputs": [
    {
     "data": {
      "text/plain": [
       "102563"
      ]
     },
     "execution_count": 10,
     "metadata": {},
     "output_type": "execute_result"
    }
   ],
   "source": [
    "all_customers = events_df.visitorid.unique()\n",
    "all_customers.size"
   ]
  },
  {
   "cell_type": "markdown",
   "id": "ed771d38-2732-4b8a-bb50-e0ce0b3f7fb0",
   "metadata": {},
   "source": [
    "#### Customers who bought something"
   ]
  },
  {
   "cell_type": "code",
   "execution_count": 11,
   "id": "01d7a0c0-cfc2-41de-8150-faf361478060",
   "metadata": {},
   "outputs": [
    {
     "data": {
      "text/plain": [
       "819"
      ]
     },
     "execution_count": 11,
     "metadata": {},
     "output_type": "execute_result"
    }
   ],
   "source": [
    "customer_purchased = events_df[events_df.transactionid.notnull()].visitorid.unique()\n",
    "customer_purchased.size"
   ]
  },
  {
   "cell_type": "markdown",
   "id": "d853e71d-5fbb-48b0-99f0-b2b6347c435e",
   "metadata": {},
   "source": [
    "#### Customers who bought nothing"
   ]
  },
  {
   "cell_type": "code",
   "execution_count": 12,
   "id": "bafc4500-b751-429f-a6c3-af572fac8035",
   "metadata": {},
   "outputs": [
    {
     "data": {
      "text/plain": [
       "101744"
      ]
     },
     "execution_count": 12,
     "metadata": {},
     "output_type": "execute_result"
    }
   ],
   "source": [
    "customer_browsed = [x for x in all_customers if x not in customer_purchased]\n",
    "len(customer_browsed)"
   ]
  },
  {
   "cell_type": "markdown",
   "id": "dd3b5f44-9ee8-49bf-b41f-f1e1cae7d4df",
   "metadata": {},
   "source": [
    "#### Visitor id 102019 and their buying journey"
   ]
  },
  {
   "cell_type": "code",
   "execution_count": 13,
   "id": "046df9b2-1908-4782-83d7-b53347dc1b46",
   "metadata": {},
   "outputs": [
    {
     "data": {
      "text/html": [
       "<div>\n",
       "<style scoped>\n",
       "    .dataframe tbody tr th:only-of-type {\n",
       "        vertical-align: middle;\n",
       "    }\n",
       "\n",
       "    .dataframe tbody tr th {\n",
       "        vertical-align: top;\n",
       "    }\n",
       "\n",
       "    .dataframe thead th {\n",
       "        text-align: right;\n",
       "    }\n",
       "</style>\n",
       "<table border=\"1\" class=\"dataframe\">\n",
       "  <thead>\n",
       "    <tr style=\"text-align: right;\">\n",
       "      <th></th>\n",
       "      <th>timestamp</th>\n",
       "      <th>visitorid</th>\n",
       "      <th>event</th>\n",
       "      <th>itemid</th>\n",
       "      <th>transactionid</th>\n",
       "      <th>event_weight</th>\n",
       "    </tr>\n",
       "  </thead>\n",
       "  <tbody>\n",
       "    <tr>\n",
       "      <th>19690</th>\n",
       "      <td>1433175714335</td>\n",
       "      <td>102019</td>\n",
       "      <td>view</td>\n",
       "      <td>49521</td>\n",
       "      <td>NaN</td>\n",
       "      <td>1</td>\n",
       "    </tr>\n",
       "    <tr>\n",
       "      <th>19501</th>\n",
       "      <td>1433175801314</td>\n",
       "      <td>102019</td>\n",
       "      <td>addtocart</td>\n",
       "      <td>49521</td>\n",
       "      <td>NaN</td>\n",
       "      <td>3</td>\n",
       "    </tr>\n",
       "    <tr>\n",
       "      <th>14842</th>\n",
       "      <td>1433175812596</td>\n",
       "      <td>102019</td>\n",
       "      <td>view</td>\n",
       "      <td>150318</td>\n",
       "      <td>NaN</td>\n",
       "      <td>1</td>\n",
       "    </tr>\n",
       "    <tr>\n",
       "      <th>19573</th>\n",
       "      <td>1433175871497</td>\n",
       "      <td>102019</td>\n",
       "      <td>view</td>\n",
       "      <td>49521</td>\n",
       "      <td>NaN</td>\n",
       "      <td>1</td>\n",
       "    </tr>\n",
       "    <tr>\n",
       "      <th>8701</th>\n",
       "      <td>1433175894837</td>\n",
       "      <td>102019</td>\n",
       "      <td>view</td>\n",
       "      <td>49521</td>\n",
       "      <td>NaN</td>\n",
       "      <td>1</td>\n",
       "    </tr>\n",
       "    <tr>\n",
       "      <th>19708</th>\n",
       "      <td>1433175945872</td>\n",
       "      <td>102019</td>\n",
       "      <td>view</td>\n",
       "      <td>150318</td>\n",
       "      <td>NaN</td>\n",
       "      <td>1</td>\n",
       "    </tr>\n",
       "    <tr>\n",
       "      <th>8740</th>\n",
       "      <td>1433176042269</td>\n",
       "      <td>102019</td>\n",
       "      <td>view</td>\n",
       "      <td>49521</td>\n",
       "      <td>NaN</td>\n",
       "      <td>1</td>\n",
       "    </tr>\n",
       "    <tr>\n",
       "      <th>814</th>\n",
       "      <td>1433176736375</td>\n",
       "      <td>102019</td>\n",
       "      <td>transaction</td>\n",
       "      <td>150318</td>\n",
       "      <td>13556.0</td>\n",
       "      <td>5</td>\n",
       "    </tr>\n",
       "    <tr>\n",
       "      <th>19724</th>\n",
       "      <td>1433176736422</td>\n",
       "      <td>102019</td>\n",
       "      <td>transaction</td>\n",
       "      <td>49521</td>\n",
       "      <td>13556.0</td>\n",
       "      <td>5</td>\n",
       "    </tr>\n",
       "  </tbody>\n",
       "</table>\n",
       "</div>"
      ],
      "text/plain": [
       "           timestamp  visitorid        event  itemid  transactionid  \\\n",
       "19690  1433175714335     102019         view   49521            NaN   \n",
       "19501  1433175801314     102019    addtocart   49521            NaN   \n",
       "14842  1433175812596     102019         view  150318            NaN   \n",
       "19573  1433175871497     102019         view   49521            NaN   \n",
       "8701   1433175894837     102019         view   49521            NaN   \n",
       "19708  1433175945872     102019         view  150318            NaN   \n",
       "8740   1433176042269     102019         view   49521            NaN   \n",
       "814    1433176736375     102019  transaction  150318        13556.0   \n",
       "19724  1433176736422     102019  transaction   49521        13556.0   \n",
       "\n",
       "       event_weight  \n",
       "19690             1  \n",
       "19501             3  \n",
       "14842             1  \n",
       "19573             1  \n",
       "8701              1  \n",
       "19708             1  \n",
       "8740              1  \n",
       "814               5  \n",
       "19724             5  "
      ]
     },
     "execution_count": 13,
     "metadata": {},
     "output_type": "execute_result"
    }
   ],
   "source": [
    "events_df[events_df.visitorid == 102019].sort_values('timestamp')"
   ]
  },
  {
   "cell_type": "markdown",
   "id": "2b7ccb33-b99d-41ac-9985-650ec24e880e",
   "metadata": {},
   "source": [
    "#### Types of actions/events"
   ]
  },
  {
   "cell_type": "code",
   "execution_count": 14,
   "id": "3e264e12-c0db-4177-b8ae-75a70d9b5585",
   "metadata": {},
   "outputs": [
    {
     "data": {
      "text/plain": [
       "array(['view', 'addtocart', 'transaction'], dtype=object)"
      ]
     },
     "execution_count": 14,
     "metadata": {},
     "output_type": "execute_result"
    }
   ],
   "source": [
    "events_df[\"event\"].unique()"
   ]
  },
  {
   "cell_type": "markdown",
   "id": "b7d33d08-ebd5-4819-a7c1-e986121c2d47",
   "metadata": {},
   "source": [
    "#### Total events"
   ]
  },
  {
   "cell_type": "code",
   "execution_count": 15,
   "id": "3503f6ae-dc01-4227-b132-9fc6051869db",
   "metadata": {},
   "outputs": [
    {
     "data": {
      "text/plain": [
       "190221"
      ]
     },
     "execution_count": 15,
     "metadata": {},
     "output_type": "execute_result"
    }
   ],
   "source": [
    "events_df[\"event\"].size"
   ]
  },
  {
   "cell_type": "markdown",
   "id": "c44d4a8e-3ef6-4248-a8c0-ef3eda9ab3c3",
   "metadata": {},
   "source": [
    "#### Count of view, addtocart, transaction"
   ]
  },
  {
   "cell_type": "code",
   "execution_count": 16,
   "id": "b526aa02-85fa-41d4-901a-2b21fa53da18",
   "metadata": {},
   "outputs": [
    {
     "data": {
      "text/plain": [
       "event\n",
       "view           184306\n",
       "addtocart        4437\n",
       "transaction      1478\n",
       "Name: count, dtype: int64"
      ]
     },
     "execution_count": 16,
     "metadata": {},
     "output_type": "execute_result"
    }
   ],
   "source": [
    "events_count=events_df[\"event\"].value_counts()\n",
    "events_count"
   ]
  },
  {
   "cell_type": "code",
   "execution_count": 17,
   "id": "dc154732-6009-4e20-a073-b7b32afac293",
   "metadata": {},
   "outputs": [
    {
     "data": {
      "image/png": "[encoded data removed]",
      "text/plain": [
       "<Figure size 1500x500 with 2 Axes>"
      ]
     },
     "metadata": {},
     "output_type": "display_data"
    }
   ],
   "source": [
    "plt.figure(figsize=(15,5))\n",
    "\n",
    "plt.subplot(1,2,1)\n",
    "plt.bar(events_count.index, events_count.values)\n",
    "# sns.countplot(x= 'event', data=events_df)\n",
    "# sns.barplot(x=events_count.index, y=events_count.values)\n",
    "\n",
    "plt.subplot(1,2,2)\n",
    "plt.bar(events_count.index[1:], events_count.values[1:])\n",
    "\n",
    "plt.show()"
   ]
  },
  {
   "cell_type": "code",
   "execution_count": 18,
   "id": "4ca0646a-8dda-40f0-b52c-7ef54d4d0990",
   "metadata": {},
   "outputs": [
    {
     "data": {
      "image/png": "[encoded data removed]",
      "text/plain": [
       "<Figure size 640x480 with 1 Axes>"
      ]
     },
     "metadata": {},
     "output_type": "display_data"
    }
   ],
   "source": [
    "plt.title('transactions')\n",
    "explode = (0, 0.25, 0.55)\n",
    "plt.pie(events_count.values, explode=explode, labels=events_count.index,autopct='%1.2f%%')\n",
    "plt.show()"
   ]
  },
  {
   "cell_type": "markdown",
   "id": "17b4239a-5d5f-47c0-a47d-8e70a78aaea2",
   "metadata": {},
   "source": [
    "#### Total transaction"
   ]
  },
  {
   "cell_type": "code",
   "execution_count": 19,
   "id": "987a49bf-0578-48b3-8c64-d882ac53dee9",
   "metadata": {},
   "outputs": [
    {
     "data": {
      "text/plain": [
       "1478"
      ]
     },
     "execution_count": 19,
     "metadata": {},
     "output_type": "execute_result"
    }
   ],
   "source": [
    "events_df[\"transactionid\"].dropna().shape[0]"
   ]
  },
  {
   "cell_type": "markdown",
   "id": "85468ad2-dd66-47c7-8283-1a0cab307088",
   "metadata": {},
   "source": [
    "#### Unique Transaction"
   ]
  },
  {
   "cell_type": "code",
   "execution_count": 20,
   "id": "20995a33-6f9e-4711-bfe6-77d54a90052c",
   "metadata": {},
   "outputs": [
    {
     "data": {
      "text/plain": [
       "1180"
      ]
     },
     "execution_count": 20,
     "metadata": {},
     "output_type": "execute_result"
    }
   ],
   "source": [
    "events_df[\"transactionid\"].dropna().unique().shape[0]"
   ]
  },
  {
   "cell_type": "markdown",
   "id": "296ff36c-5347-4c04-88c6-97c1d563e4f3",
   "metadata": {},
   "source": [
    "#### Total item"
   ]
  },
  {
   "cell_type": "code",
   "execution_count": 21,
   "id": "bef32790-9d4b-444e-befe-b06f3cf0638a",
   "metadata": {},
   "outputs": [
    {
     "data": {
      "text/plain": [
       "190221"
      ]
     },
     "execution_count": 21,
     "metadata": {},
     "output_type": "execute_result"
    }
   ],
   "source": [
    "events_df[\"itemid\"].size"
   ]
  },
  {
   "cell_type": "markdown",
   "id": "26b3a5fb-daf4-406c-b295-2f5495d6a03b",
   "metadata": {},
   "source": [
    "#### Unique item"
   ]
  },
  {
   "cell_type": "code",
   "execution_count": 22,
   "id": "756dc411-71e3-4533-a727-f4f52e33cad7",
   "metadata": {},
   "outputs": [
    {
     "data": {
      "text/plain": [
       "60413"
      ]
     },
     "execution_count": 22,
     "metadata": {},
     "output_type": "execute_result"
    }
   ],
   "source": [
    "events_df[\"itemid\"].unique().size"
   ]
  },
  {
   "cell_type": "markdown",
   "id": "c04a9709-888d-4b82-a887-cfb447477012",
   "metadata": {},
   "source": [
    "#### Grouping itemid by its event type and creating list of each of them"
   ]
  },
  {
   "cell_type": "code",
   "execution_count": 23,
   "id": "43b1063e-bb54-4d1b-b9df-93f31bbc98e9",
   "metadata": {},
   "outputs": [
    {
     "data": {
      "text/plain": [
       "event\n",
       "addtocart      [5206, 10572, 255275, 356475, 312728, 63312, 1...\n",
       "transaction    [356475, 15335, 81345, 150318, 310791, 54058, ...\n",
       "view           [355908, 248676, 318965, 253185, 367447, 22556...\n",
       "Name: itemid, dtype: object"
      ]
     },
     "execution_count": 23,
     "metadata": {},
     "output_type": "execute_result"
    }
   ],
   "source": [
    "grouped = events_df.groupby('event')['itemid'].apply(np.array)\n",
    "grouped"
   ]
  },
  {
   "cell_type": "markdown",
   "id": "88585366-6142-4846-9cfa-2afe6dda9cbf",
   "metadata": {},
   "source": [
    "#### Most viewed Items"
   ]
  },
  {
   "cell_type": "code",
   "execution_count": 24,
   "id": "4e4f1e5b-4445-40e9-8d79-cc6e57b00afc",
   "metadata": {},
   "outputs": [
    {
     "name": "stderr",
     "output_type": "stream",
     "text": [
      "C:\\Users\\DELL\\AppData\\Local\\Temp\\ipykernel_4944\\4144380944.py:17: FutureWarning: \n",
      "\n",
      "Passing `palette` without assigning `hue` is deprecated and will be removed in v0.14.0. Assign the `x` variable to `hue` and set `legend=False` for the same effect.\n",
      "\n",
      "  sns.barplot(x=x, y=y, order=x, palette=\"rocket\")\n"
     ]
    },
    {
     "data": {
      "text/plain": [
       "<Axes: >"
      ]
     },
     "execution_count": 24,
     "metadata": {},
     "output_type": "execute_result"
    },
    {
     "data": {
      "image/png": "[encoded data removed]",
      "text/plain": [
       "<Figure size 640x480 with 1 Axes>"
      ]
     },
     "metadata": {},
     "output_type": "display_data"
    }
   ],
   "source": [
    "import operator\n",
    "views = grouped['view']\n",
    "# creating dictionary for key value pair \n",
    "count_view ={}\n",
    "#since views is a list, we will convert it into numpy array for further manipulations\n",
    "views = np.array(views[:])\n",
    "#counting uniques values of views of this numpy views array\n",
    "unique, counts = np.unique(views, return_counts=True)\n",
    "# converting unique and counts as a dictionay with key as unique and value as counts\n",
    "count_view = dict(zip(unique, counts))\n",
    "#sorting the dictionary\n",
    "sort_count_view = sorted(count_view.items(), key = operator.itemgetter(1), reverse = True)\n",
    "# keeping number of unique views on X-axis\n",
    "x = [i[0] for i in sort_count_view[:7]]\n",
    "# keeping count number of views on Y-axis\n",
    "y = [i[1] for i in sort_count_view[:7]]\n",
    "sns.barplot(x=x, y=y, order=x, palette=\"rocket\")"
   ]
  },
  {
   "cell_type": "markdown",
   "id": "743ff927-c598-42d4-bff8-3595109ea21b",
   "metadata": {},
   "source": [
    "#### Most ADDTOCART items"
   ]
  },
  {
   "cell_type": "code",
   "execution_count": 25,
   "id": "5a057037-d330-4d4f-a80a-fdcaee2361ca",
   "metadata": {},
   "outputs": [
    {
     "name": "stderr",
     "output_type": "stream",
     "text": [
      "C:\\Users\\DELL\\AppData\\Local\\Temp\\ipykernel_4944\\2989718494.py:16: FutureWarning: \n",
      "\n",
      "Passing `palette` without assigning `hue` is deprecated and will be removed in v0.14.0. Assign the `x` variable to `hue` and set `legend=False` for the same effect.\n",
      "\n",
      "  sns.barplot(x=x, y=y, order=x, palette=\"pastel\")\n"
     ]
    },
    {
     "data": {
      "text/plain": [
       "<Axes: >"
      ]
     },
     "execution_count": 25,
     "metadata": {},
     "output_type": "execute_result"
    },
    {
     "data": {
      "image/png": "[encoded data removed]",
      "text/plain": [
       "<Figure size 640x480 with 1 Axes>"
      ]
     },
     "metadata": {},
     "output_type": "display_data"
    }
   ],
   "source": [
    "addtocart = grouped['addtocart']\n",
    "# creating dictionary for key value pair \n",
    "count_addtocart ={}\n",
    "#since addtocart is a list, we will convert it into numpy array for further manipulations\n",
    "addtocart = np.array(addtocart[:])\n",
    "#counting uniques values of addtocart items of this numpy addtocart array\n",
    "unique, counts = np.unique(addtocart, return_counts=True)\n",
    "# converting unique and counts as a dictionay with key as unique and value as counts\n",
    "count_addtocart = dict(zip(unique, counts))\n",
    "#sorting the dictionary\n",
    "sort_count_addtocart = sorted(count_addtocart.items(), key = operator.itemgetter(1), reverse = True)\n",
    "# keeping number of unique views on X-axis\n",
    "x = [i[0] for i in sort_count_addtocart[:7]]\n",
    "# keeping count number of views on Y-axis\n",
    "y = [i[1] for i in sort_count_addtocart[:7]]\n",
    "sns.barplot(x=x, y=y, order=x, palette=\"pastel\")"
   ]
  },
  {
   "cell_type": "markdown",
   "id": "d61ca0da-6dd3-40f6-817d-b1485a9d57b4",
   "metadata": {},
   "source": [
    "#### Analyzing 29196 itemid"
   ]
  },
  {
   "cell_type": "code",
   "execution_count": 28,
   "id": "b5e71f09-1da3-4946-810a-3d485a668f51",
   "metadata": {},
   "outputs": [
    {
     "data": {
      "text/html": [
       "<div>\n",
       "<style scoped>\n",
       "    .dataframe tbody tr th:only-of-type {\n",
       "        vertical-align: middle;\n",
       "    }\n",
       "\n",
       "    .dataframe tbody tr th {\n",
       "        vertical-align: top;\n",
       "    }\n",
       "\n",
       "    .dataframe thead th {\n",
       "        text-align: right;\n",
       "    }\n",
       "</style>\n",
       "<table border=\"1\" class=\"dataframe\">\n",
       "  <thead>\n",
       "    <tr style=\"text-align: right;\">\n",
       "      <th></th>\n",
       "      <th>timestamp</th>\n",
       "      <th>visitorid</th>\n",
       "      <th>event</th>\n",
       "      <th>itemid</th>\n",
       "      <th>transactionid</th>\n",
       "      <th>event_weight</th>\n",
       "    </tr>\n",
       "  </thead>\n",
       "  <tbody>\n",
       "    <tr>\n",
       "      <th>1061</th>\n",
       "      <td>1433182072067</td>\n",
       "      <td>680869</td>\n",
       "      <td>addtocart</td>\n",
       "      <td>29196</td>\n",
       "      <td>NaN</td>\n",
       "      <td>3</td>\n",
       "    </tr>\n",
       "    <tr>\n",
       "      <th>1829</th>\n",
       "      <td>1433201698338</td>\n",
       "      <td>463561</td>\n",
       "      <td>view</td>\n",
       "      <td>29196</td>\n",
       "      <td>NaN</td>\n",
       "      <td>1</td>\n",
       "    </tr>\n",
       "    <tr>\n",
       "      <th>4687</th>\n",
       "      <td>1433176349976</td>\n",
       "      <td>412614</td>\n",
       "      <td>view</td>\n",
       "      <td>29196</td>\n",
       "      <td>NaN</td>\n",
       "      <td>1</td>\n",
       "    </tr>\n",
       "    <tr>\n",
       "      <th>7398</th>\n",
       "      <td>1433189428186</td>\n",
       "      <td>820159</td>\n",
       "      <td>view</td>\n",
       "      <td>29196</td>\n",
       "      <td>NaN</td>\n",
       "      <td>1</td>\n",
       "    </tr>\n",
       "    <tr>\n",
       "      <th>7485</th>\n",
       "      <td>1433206359262</td>\n",
       "      <td>1016655</td>\n",
       "      <td>addtocart</td>\n",
       "      <td>29196</td>\n",
       "      <td>NaN</td>\n",
       "      <td>3</td>\n",
       "    </tr>\n",
       "    <tr>\n",
       "      <th>...</th>\n",
       "      <td>...</td>\n",
       "      <td>...</td>\n",
       "      <td>...</td>\n",
       "      <td>...</td>\n",
       "      <td>...</td>\n",
       "      <td>...</td>\n",
       "    </tr>\n",
       "    <tr>\n",
       "      <th>178169</th>\n",
       "      <td>1433874314414</td>\n",
       "      <td>106943</td>\n",
       "      <td>view</td>\n",
       "      <td>29196</td>\n",
       "      <td>NaN</td>\n",
       "      <td>1</td>\n",
       "    </tr>\n",
       "    <tr>\n",
       "      <th>182316</th>\n",
       "      <td>1433901135485</td>\n",
       "      <td>384770</td>\n",
       "      <td>view</td>\n",
       "      <td>29196</td>\n",
       "      <td>NaN</td>\n",
       "      <td>1</td>\n",
       "    </tr>\n",
       "    <tr>\n",
       "      <th>182682</th>\n",
       "      <td>1433877802625</td>\n",
       "      <td>588087</td>\n",
       "      <td>view</td>\n",
       "      <td>29196</td>\n",
       "      <td>NaN</td>\n",
       "      <td>1</td>\n",
       "    </tr>\n",
       "    <tr>\n",
       "      <th>187022</th>\n",
       "      <td>1433866219500</td>\n",
       "      <td>1295525</td>\n",
       "      <td>view</td>\n",
       "      <td>29196</td>\n",
       "      <td>NaN</td>\n",
       "      <td>1</td>\n",
       "    </tr>\n",
       "    <tr>\n",
       "      <th>187988</th>\n",
       "      <td>1433875216297</td>\n",
       "      <td>436939</td>\n",
       "      <td>view</td>\n",
       "      <td>29196</td>\n",
       "      <td>NaN</td>\n",
       "      <td>1</td>\n",
       "    </tr>\n",
       "  </tbody>\n",
       "</table>\n",
       "<p>116 rows × 6 columns</p>\n",
       "</div>"
      ],
      "text/plain": [
       "            timestamp  visitorid      event  itemid  transactionid  \\\n",
       "1061    1433182072067     680869  addtocart   29196            NaN   \n",
       "1829    1433201698338     463561       view   29196            NaN   \n",
       "4687    1433176349976     412614       view   29196            NaN   \n",
       "7398    1433189428186     820159       view   29196            NaN   \n",
       "7485    1433206359262    1016655  addtocart   29196            NaN   \n",
       "...               ...        ...        ...     ...            ...   \n",
       "178169  1433874314414     106943       view   29196            NaN   \n",
       "182316  1433901135485     384770       view   29196            NaN   \n",
       "182682  1433877802625     588087       view   29196            NaN   \n",
       "187022  1433866219500    1295525       view   29196            NaN   \n",
       "187988  1433875216297     436939       view   29196            NaN   \n",
       "\n",
       "        event_weight  \n",
       "1061               3  \n",
       "1829               1  \n",
       "4687               1  \n",
       "7398               1  \n",
       "7485               3  \n",
       "...              ...  \n",
       "178169             1  \n",
       "182316             1  \n",
       "182682             1  \n",
       "187022             1  \n",
       "187988             1  \n",
       "\n",
       "[116 rows x 6 columns]"
      ]
     },
     "execution_count": 28,
     "metadata": {},
     "output_type": "execute_result"
    }
   ],
   "source": [
    "events_df.loc[(events_df.itemid==29196)]"
   ]
  },
  {
   "cell_type": "markdown",
   "id": "30c51021-8927-4f3d-9bfd-21c75bf5f56e",
   "metadata": {},
   "source": [
    "#### Most TRANSACION items"
   ]
  },
  {
   "cell_type": "code",
   "execution_count": 26,
   "id": "812d41db-703a-42b8-9b18-d62ccc4f4fab",
   "metadata": {},
   "outputs": [
    {
     "name": "stderr",
     "output_type": "stream",
     "text": [
      "C:\\Users\\DELL\\AppData\\Local\\Temp\\ipykernel_4944\\1410217524.py:16: FutureWarning: \n",
      "\n",
      "Passing `palette` without assigning `hue` is deprecated and will be removed in v0.14.0. Assign the `x` variable to `hue` and set `legend=False` for the same effect.\n",
      "\n",
      "  sns.barplot(x=x, y=y, order=x, palette=\"vlag\")\n"
     ]
    },
    {
     "data": {
      "text/plain": [
       "<Axes: >"
      ]
     },
     "execution_count": 26,
     "metadata": {},
     "output_type": "execute_result"
    },
    {
     "data": {
      "image/png": "[encoded data removed]",
      "text/plain": [
       "<Figure size 640x480 with 1 Axes>"
      ]
     },
     "metadata": {},
     "output_type": "display_data"
    }
   ],
   "source": [
    "transaction = grouped['transaction']\n",
    "# creating dictionary for key value pair \n",
    "count_transaction ={}\n",
    "#since addtocart is a list, we will convert it into numpy array for further manipulations\n",
    "transaction = np.array(transaction[:])\n",
    "#counting uniques values of addtocart items of this numpy addtocart array\n",
    "unique, counts = np.unique(transaction, return_counts=True)\n",
    "# converting unique and counts as a dictionay with key as unique and value as counts\n",
    "count_transaction = dict(zip(unique, counts))\n",
    "#sorting the dictionary\n",
    "sort_count_transaction = sorted(count_transaction.items(), key = operator.itemgetter(1), reverse = True)\n",
    "# keeping number of unique views on X-axis\n",
    "x = [i[0] for i in sort_count_transaction[:7]]\n",
    "# keeping count number of views on Y-axis\n",
    "y = [i[1] for i in sort_count_transaction[:7]]\n",
    "sns.barplot(x=x, y=y, order=x, palette=\"vlag\")"
   ]
  },
  {
   "cell_type": "markdown",
   "id": "69692bd8-4173-4049-b5d0-7307409cff10",
   "metadata": {},
   "source": [
    "##### Analyzing 119736 itemid"
   ]
  },
  {
   "cell_type": "code",
   "execution_count": 29,
   "id": "edc4bfbf-1730-4df4-ae1f-99d1792d67ac",
   "metadata": {},
   "outputs": [
    {
     "data": {
      "text/html": [
       "<div>\n",
       "<style scoped>\n",
       "    .dataframe tbody tr th:only-of-type {\n",
       "        vertical-align: middle;\n",
       "    }\n",
       "\n",
       "    .dataframe tbody tr th {\n",
       "        vertical-align: top;\n",
       "    }\n",
       "\n",
       "    .dataframe thead th {\n",
       "        text-align: right;\n",
       "    }\n",
       "</style>\n",
       "<table border=\"1\" class=\"dataframe\">\n",
       "  <thead>\n",
       "    <tr style=\"text-align: right;\">\n",
       "      <th></th>\n",
       "      <th>timestamp</th>\n",
       "      <th>visitorid</th>\n",
       "      <th>event</th>\n",
       "      <th>itemid</th>\n",
       "      <th>transactionid</th>\n",
       "      <th>event_weight</th>\n",
       "    </tr>\n",
       "  </thead>\n",
       "  <tbody>\n",
       "    <tr>\n",
       "      <th>5555</th>\n",
       "      <td>1433177781018</td>\n",
       "      <td>286616</td>\n",
       "      <td>view</td>\n",
       "      <td>119736</td>\n",
       "      <td>NaN</td>\n",
       "      <td>1</td>\n",
       "    </tr>\n",
       "    <tr>\n",
       "      <th>9933</th>\n",
       "      <td>1433220222122</td>\n",
       "      <td>163253</td>\n",
       "      <td>view</td>\n",
       "      <td>119736</td>\n",
       "      <td>NaN</td>\n",
       "      <td>1</td>\n",
       "    </tr>\n",
       "    <tr>\n",
       "      <th>11812</th>\n",
       "      <td>1433185467024</td>\n",
       "      <td>1161163</td>\n",
       "      <td>transaction</td>\n",
       "      <td>119736</td>\n",
       "      <td>118.0</td>\n",
       "      <td>5</td>\n",
       "    </tr>\n",
       "    <tr>\n",
       "      <th>13824</th>\n",
       "      <td>1433181192471</td>\n",
       "      <td>286616</td>\n",
       "      <td>view</td>\n",
       "      <td>119736</td>\n",
       "      <td>NaN</td>\n",
       "      <td>1</td>\n",
       "    </tr>\n",
       "    <tr>\n",
       "      <th>17762</th>\n",
       "      <td>1433178692996</td>\n",
       "      <td>350566</td>\n",
       "      <td>view</td>\n",
       "      <td>119736</td>\n",
       "      <td>NaN</td>\n",
       "      <td>1</td>\n",
       "    </tr>\n",
       "    <tr>\n",
       "      <th>...</th>\n",
       "      <td>...</td>\n",
       "      <td>...</td>\n",
       "      <td>...</td>\n",
       "      <td>...</td>\n",
       "      <td>...</td>\n",
       "      <td>...</td>\n",
       "    </tr>\n",
       "    <tr>\n",
       "      <th>179605</th>\n",
       "      <td>1433875555927</td>\n",
       "      <td>794450</td>\n",
       "      <td>view</td>\n",
       "      <td>119736</td>\n",
       "      <td>NaN</td>\n",
       "      <td>1</td>\n",
       "    </tr>\n",
       "    <tr>\n",
       "      <th>180221</th>\n",
       "      <td>1433882087915</td>\n",
       "      <td>748040</td>\n",
       "      <td>view</td>\n",
       "      <td>119736</td>\n",
       "      <td>NaN</td>\n",
       "      <td>1</td>\n",
       "    </tr>\n",
       "    <tr>\n",
       "      <th>184424</th>\n",
       "      <td>1433884719493</td>\n",
       "      <td>841939</td>\n",
       "      <td>view</td>\n",
       "      <td>119736</td>\n",
       "      <td>NaN</td>\n",
       "      <td>1</td>\n",
       "    </tr>\n",
       "    <tr>\n",
       "      <th>185379</th>\n",
       "      <td>1433874314289</td>\n",
       "      <td>429443</td>\n",
       "      <td>view</td>\n",
       "      <td>119736</td>\n",
       "      <td>NaN</td>\n",
       "      <td>1</td>\n",
       "    </tr>\n",
       "    <tr>\n",
       "      <th>188790</th>\n",
       "      <td>1433904082646</td>\n",
       "      <td>138131</td>\n",
       "      <td>transaction</td>\n",
       "      <td>119736</td>\n",
       "      <td>8469.0</td>\n",
       "      <td>5</td>\n",
       "    </tr>\n",
       "  </tbody>\n",
       "</table>\n",
       "<p>93 rows × 6 columns</p>\n",
       "</div>"
      ],
      "text/plain": [
       "            timestamp  visitorid        event  itemid  transactionid  \\\n",
       "5555    1433177781018     286616         view  119736            NaN   \n",
       "9933    1433220222122     163253         view  119736            NaN   \n",
       "11812   1433185467024    1161163  transaction  119736          118.0   \n",
       "13824   1433181192471     286616         view  119736            NaN   \n",
       "17762   1433178692996     350566         view  119736            NaN   \n",
       "...               ...        ...          ...     ...            ...   \n",
       "179605  1433875555927     794450         view  119736            NaN   \n",
       "180221  1433882087915     748040         view  119736            NaN   \n",
       "184424  1433884719493     841939         view  119736            NaN   \n",
       "185379  1433874314289     429443         view  119736            NaN   \n",
       "188790  1433904082646     138131  transaction  119736         8469.0   \n",
       "\n",
       "        event_weight  \n",
       "5555               1  \n",
       "9933               1  \n",
       "11812              5  \n",
       "13824              1  \n",
       "17762              1  \n",
       "...              ...  \n",
       "179605             1  \n",
       "180221             1  \n",
       "184424             1  \n",
       "185379             1  \n",
       "188790             5  \n",
       "\n",
       "[93 rows x 6 columns]"
      ]
     },
     "execution_count": 29,
     "metadata": {},
     "output_type": "execute_result"
    }
   ],
   "source": [
    "events_df.loc[(events_df.itemid==119736)]"
   ]
  },
  {
   "cell_type": "markdown",
   "id": "b86b9408-bd90-487c-8c01-bb64dc9895f5",
   "metadata": {},
   "source": [
    "### Now lets offer visitor a list of items of what previous visitors bought TOGETHER with the item they are currently viewing. This way we can guide them in their buying journey"
   ]
  },
  {
   "cell_type": "code",
   "execution_count": 30,
   "id": "ea3262c3-f970-41cb-842b-4232146df877",
   "metadata": {},
   "outputs": [],
   "source": [
    "# first - lets create a list of visitors who made a purchase\n",
    "customer_purchased = events_df[events_df.transactionid.notnull()].visitorid.unique()\n",
    "\n",
    "#lets create a list of purchased items\n",
    "purchased_items = []\n",
    "\n",
    "for customer in customer_purchased:\n",
    "    purchased_items.append(list(events_df.loc[(events_df.visitorid == customer) & (events_df.transactionid.notnull())].itemid.values))"
   ]
  },
  {
   "cell_type": "code",
   "execution_count": 35,
   "id": "94c721ba-5fd2-4f09-80bc-52a13be2fd20",
   "metadata": {},
   "outputs": [
    {
     "data": {
      "text/plain": [
       "[[356475],\n",
       " [15335,\n",
       "  380775,\n",
       "  237753,\n",
       "  317178,\n",
       "  12836,\n",
       "  400969,\n",
       "  105792,\n",
       "  25353,\n",
       "  200793,\n",
       "  80582,\n",
       "  302422],\n",
       " [81345],\n",
       " [150318, 49521],\n",
       " [310791, 299044],\n",
       " [54058,\n",
       "  284871,\n",
       "  251130,\n",
       "  268335,\n",
       "  183049,\n",
       "  261940,\n",
       "  369093,\n",
       "  370745,\n",
       "  192990,\n",
       "  277119,\n",
       "  241716,\n",
       "  283766,\n",
       "  16417],\n",
       " [150100, 50934, 36013, 26210, 118199, 234199, 416187, 167985, 146735, 4887]]"
      ]
     },
     "execution_count": 35,
     "metadata": {},
     "output_type": "execute_result"
    }
   ],
   "source": [
    "purchased_items[:7]"
   ]
  },
  {
   "cell_type": "markdown",
   "id": "5972945e-6bdd-49d8-916e-1d18c97913ba",
   "metadata": {},
   "source": [
    "### lets define the function that would show items that were bought together by the same customer"
   ]
  },
  {
   "cell_type": "code",
   "execution_count": 36,
   "id": "41989507-a665-4ac8-9398-17f9b14c28b2",
   "metadata": {},
   "outputs": [],
   "source": [
    "def recommend_items(item_id, purchased_items):\n",
    "    recommendation_list =[]\n",
    "    for x in purchased_items:\n",
    "        if item_id in x:\n",
    "            recommendation_list +=x\n",
    "    \n",
    "    # remove the pass item from the list and merge the above created list\n",
    "    recommendation_list = list(set(recommendation_list) - set([item_id]))\n",
    "    return recommendation_list"
   ]
  },
  {
   "cell_type": "markdown",
   "id": "729c27f5-f85a-4107-9085-6da92873c693",
   "metadata": {},
   "source": [
    "### Lets recommend items from a customer who previously bought ,when a visitor is viewing item_id = 200793"
   ]
  },
  {
   "cell_type": "code",
   "execution_count": 37,
   "id": "bc6dfc15-b4e4-46db-a63c-982485369728",
   "metadata": {},
   "outputs": [
    {
     "data": {
      "text/plain": [
       "[105792, 12836, 80582, 380775, 15335, 400969, 25353, 302422, 237753, 317178]"
      ]
     },
     "execution_count": 37,
     "metadata": {},
     "output_type": "execute_result"
    }
   ],
   "source": [
    "recommend_items(200793, purchased_items)"
   ]
  },
  {
   "cell_type": "code",
   "execution_count": null,
   "id": "998f2df3-40b0-4787-a620-c505c847914d",
   "metadata": {},
   "outputs": [],
   "source": []
  }
 ],
 "metadata": {
  "kernelspec": {
   "display_name": "Python 3 (ipykernel)",
   "language": "python",
   "name": "python3"
  },
  "language_info": {
   "codemirror_mode": {
    "name": "ipython",
    "version": 3
   },
   "file_extension": ".py",
   "mimetype": "text/x-python",
   "name": "python",
   "nbconvert_exporter": "python",
   "pygments_lexer": "ipython3",
   "version": "3.12.5"
  }
 },
 "nbformat": 4,
 "nbformat_minor": 5
}
